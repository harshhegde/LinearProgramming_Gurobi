{
 "cells": [
  {
   "cell_type": "markdown",
   "metadata": {},
   "source": [
    "# Production model: constraint-style LP with Python/Gurobi\n",
    "## [Jon Lee](https://sites.google.com/site/jonleewebpage/home), 10/20/2020\n",
    "\n",
    "Notes:\n",
    "* This example is meant to show how to:\n",
    "\n",
    "   * do constraint-style LP's (as opposed to matrix style), though the model we are setting up is $\\max\\{c'x ~:~ Ax\\leq b,~ x\\geq \\mathbf{0}\\}$.\n",
    "   \n",
    "   * extract and print: primal and dual solutions, primal and dual slacks, and sensitivity information \n",
    "   \n",
    "   * pass constraint names to Gurobi and then retrieve constraints from Gurobi by these names\n",
    "   \n",
    "   Edit: I also extend the code to solve the dual of the Production Problem example, as described in Section 2.1.\n",
    "   \n",
    "References:\n",
    "\n",
    "* Jon Lee, \"A First Course in Linear Optimization\", Fourth Edition (Version 4.05), Reex Press, 2013-22."
   ]
  },
  {
   "cell_type": "markdown",
   "metadata": {},
   "source": [
    "MIT License\n",
    "\n",
    "Copyright (c) 2020 Jon Lee\n",
    "\n",
    "Permission is hereby granted, free of charge, to any person obtaining a copy \n",
    "of this software and associated documentation files (the \"Software\"), to deal\n",
    "in the Software without restriction, including without limitation the rights\n",
    "to use, copy, modify, merge, publish, distribute, sublicense, and/or sell\n",
    "copies of the Software, and to permit persons to whom the Software is\n",
    "furnished to do so, subject to the following conditions:\n",
    "\n",
    "The above copyright notice and this permission notice shall be included in all\n",
    "copies or substantial portions of the Software.\n",
    "\n",
    "THE SOFTWARE IS PROVIDED \"AS IS\", WITHOUT WARRANTY OF ANY KIND, EXPRESS OR\n",
    "IMPLIED, INCLUDING BUT NOT LIMITED TO THE WARRANTIES OF MERCHANTABILITY,\n",
    "FITNESS FOR A PARTICULAR PURPOSE AND NONINFRINGEMENT. IN NO EVENT SHALL THE\n",
    "AUTHORS OR COPYRIGHT HOLDERS BE LIABLE FOR ANY CLAIM, DAMAGES OR OTHER\n",
    "LIABILITY, WHETHER IN AN ACTION OF CONTRACT, TORT OR OTHERWISE, ARISING FROM,\n",
    "OUT OF OR IN CONNECTION WITH THE SOFTWARE OR THE USE OR OTHER DEALINGS IN THE\n",
    "SOFTWARE."
   ]
  },
  {
   "cell_type": "code",
   "execution_count": 15,
   "metadata": {},
   "outputs": [],
   "source": [
    "%reset -f\n",
    "import numpy as np\n",
    "import gurobipy as gp\n",
    "from gurobipy import GRB\n",
    "\n",
    "class StopExecution(Exception):\n",
    "    def _render_traceback_(self):\n",
    "        pass"
   ]
  },
  {
   "cell_type": "code",
   "execution_count": 16,
   "metadata": {},
   "outputs": [],
   "source": [
    "# Some toy data\n",
    "m=3\n",
    "n=2\n",
    "M=list(range(0,m))\n",
    "N=list(range(0,n))\n",
    "A = np.array([ [8, 5], [8, 6], [8, 7] ])\n",
    "b = np.array([32, 33, 35])\n",
    "c = np.array([3 ,2])\n",
    "s= np.random.rand(m)"
   ]
  },
  {
   "cell_type": "code",
   "execution_count": 17,
   "metadata": {},
   "outputs": [
    {
     "name": "stdout",
     "output_type": "stream",
     "text": [
      "Discarded solution information\n"
     ]
    }
   ],
   "source": [
    "model = gp.Model()\n",
    "model.reset()\n",
    "x = model.addMVar(n)\n",
    "s= model.addMVar(m)\n",
    "revenueobjective = model.setObjective(sum(c[j]*x[j] for j in N), GRB.MAXIMIZE)\n",
    "for i in M:    # naming the constraints r0,r1,r2,... (inside Gurobi)\n",
    "    model.addConstr(sum(A[i,j]*x[j] + s[i] for j in N) == b[i], name='r'+str(i)) "
   ]
  },
  {
   "cell_type": "code",
   "execution_count": 18,
   "metadata": {
    "scrolled": false
   },
   "outputs": [
    {
     "name": "stdout",
     "output_type": "stream",
     "text": [
      "Gurobi Optimizer version 10.0.2 build v10.0.2rc0 (win64)\n",
      "\n",
      "CPU model: AMD Ryzen 5 PRO 5650U with Radeon Graphics, instruction set [SSE2|AVX|AVX2]\n",
      "Thread count: 6 physical cores, 12 logical processors, using up to 12 threads\n",
      "\n",
      "Optimize a model with 3 rows, 5 columns and 9 nonzeros\n",
      "Model fingerprint: 0xba1a9232\n",
      "Coefficient statistics:\n",
      "  Matrix range     [2e+00, 8e+00]\n",
      "  Objective range  [2e+00, 3e+00]\n",
      "  Bounds range     [0e+00, 0e+00]\n",
      "  RHS range        [3e+01, 4e+01]\n",
      "Presolve removed 0 rows and 3 columns\n",
      "Presolve time: 0.00s\n",
      "Presolved: 3 rows, 2 columns, 6 nonzeros\n",
      "\n",
      "Iteration    Objective       Primal Inf.    Dual Inf.      Time\n",
      "       0    1.2800000e+01   3.294000e+00   0.000000e+00      0s\n",
      "       3    1.2125000e+01   0.000000e+00   0.000000e+00      0s\n",
      "\n",
      "Solved in 3 iterations and 0.01 seconds (0.00 work units)\n",
      "Optimal objective  1.212500000e+01\n",
      " \n",
      "primal var,      dual slack,      obj delta-lb,    obj delta-ub\n",
      "x[ 0 ]= 3.3750   t[ 0 ]= 0.       L[ 0 ]= -0.3333   U[ 0 ]= 0.2   \n",
      "x[ 1 ]= 1.       t[ 1 ]= 0.       L[ 1 ]= -0.125    U[ 1 ]= 0.25  \n",
      " \n",
      "dual vars,       primal slack,    rhs delta-lb,    rhs delta-ub\n",
      "y[ 0 ]= 0.2500   s[ 0 ]= 0.       L[ 0 ]= -1.       U[ 0 ]= 1.    \n",
      "y[ 1 ]= 0.125    s[ 1 ]= 0.       L[ 1 ]= -1.       U[ 1 ]= 0.5   \n",
      "y[ 2 ]= 0.       s[ 2 ]= 0.       L[ 2 ]= -1.       U[ 2 ]= inf\n"
     ]
    }
   ],
   "source": [
    "model.optimize()\n",
    "if model.status != GRB.Status.OPTIMAL:\n",
    "    print(\"***** Gurobi solve status:\", model.status)\n",
    "    print(\"***** This is a problem. Model does not have an optimal solution\")\n",
    "    raise StopExecution\n",
    "print(\" \")\n",
    "print(\"primal var,      dual slack,      obj delta-lb,    obj delta-ub\")\n",
    "for j in N: print(\"x[\",j,\"]=\",np.format_float_positional(x[j].X,4,pad_right=4), \n",
    "                  \"  t[\",j,\"]=\", np.format_float_positional(x[j].RC,4,pad_right=4),\n",
    "                  \"  L[\",j,\"]=\", np.format_float_positional(x[j].SAObjLow-c[j],4,pad_right=4),\n",
    "                  \"  U[\",j,\"]=\", np.format_float_positional(x[j].SAObjUp-c[j],4,pad_right=4))\n",
    "print(\" \")\n",
    "print(\"dual vars,       primal slack,    rhs delta-lb,    rhs delta-ub\")\n",
    "for i in M: \n",
    "    constr=model.getConstrByName('r'+str(i))    # retriving from Gurobi the named constraints r0,r1,r2,...\n",
    "    print(\"y[\",i,\"]=\",np.format_float_positional(constr.Pi,4,pad_right=4), \n",
    "                  \"  s[\",i,\"]=\", np.format_float_positional(constr.Slack,4,pad_right=4),\n",
    "                  \"  L[\",i,\"]=\", np.format_float_positional(constr.SARHSLow-b[i],4,pad_right=4),\n",
    "                  \"  U[\",i,\"]=\", np.format_float_positional(constr.SARHSUp-b[i],4,pad_right=4))"
   ]
  },
  {
   "cell_type": "markdown",
   "metadata": {},
   "source": [
    "### We are now setting up the dual of this model $\\min\\{y'b ~:~ y'A\\geq c',~ y\\geq \\mathbf{0}\\}$."
   ]
  },
  {
   "cell_type": "code",
   "execution_count": 37,
   "metadata": {},
   "outputs": [
    {
     "name": "stdout",
     "output_type": "stream",
     "text": [
      "Discarded solution information\n"
     ]
    }
   ],
   "source": [
    "model = gp.Model()\n",
    "model.reset()\n",
    "y = model.addMVar(m)\n",
    "s = model.addMVar(n)\n",
    "costobjective = model.setObjective(sum(y[i]*b[i] for i in M), GRB.MINIMIZE)\n",
    "for j in N:    # naming the constraints r0,r1,r2,... (inside Gurobi)\n",
    "    model.addConstr(sum(np.transpose(A[i,j])*y[i] - s[j] for i in M) == c[j], name='r'+str(j)) "
   ]
  },
  {
   "cell_type": "code",
   "execution_count": 38,
   "metadata": {},
   "outputs": [
    {
     "name": "stdout",
     "output_type": "stream",
     "text": [
      "Gurobi Optimizer version 10.0.2 build v10.0.2rc0 (win64)\n",
      "\n",
      "CPU model: AMD Ryzen 5 PRO 5650U with Radeon Graphics, instruction set [SSE2|AVX|AVX2]\n",
      "Thread count: 6 physical cores, 12 logical processors, using up to 12 threads\n",
      "\n",
      "Optimize a model with 2 rows, 5 columns and 8 nonzeros\n",
      "Model fingerprint: 0x62346732\n",
      "Coefficient statistics:\n",
      "  Matrix range     [3e+00, 8e+00]\n",
      "  Objective range  [3e+01, 4e+01]\n",
      "  Bounds range     [0e+00, 0e+00]\n",
      "  RHS range        [2e+00, 3e+00]\n",
      "Presolve removed 0 rows and 2 columns\n",
      "Presolve time: 0.01s\n",
      "Presolved: 2 rows, 3 columns, 6 nonzeros\n",
      "\n",
      "Iteration    Objective       Primal Inf.    Dual Inf.      Time\n",
      "       0    0.0000000e+00   1.250000e+00   0.000000e+00      0s\n",
      "       2    1.2125000e+01   0.000000e+00   0.000000e+00      0s\n",
      "\n",
      "Solved in 2 iterations and 0.01 seconds (0.00 work units)\n",
      "Optimal objective  1.212500000e+01\n",
      " \n",
      "primal var,      dual slack,      obj delta-lb,    obj delta-ub\n",
      "y[ 0 ]= 0.25     s[ 0 ]= 0.       L[ 0 ]= -1.       U[ 0 ]= 1.    \n",
      "y[ 1 ]= 0.125    s[ 1 ]= 0.       L[ 1 ]= -1.       U[ 1 ]= 0.5   \n",
      "y[ 2 ]= 0.       s[ 2 ]= 1.       L[ 2 ]= -1.       U[ 2 ]= inf\n",
      " \n",
      "dual vars,       primal slack,    rhs delta-lb,    rhs delta-ub\n",
      "x[ 0 ]= 3.375    t[ 0 ]= 0.       L[ 0 ]= -0.3333   U[ 0 ]= 0.2000\n",
      "x[ 1 ]= 1.       t[ 1 ]= 0.       L[ 1 ]= -0.125    U[ 1 ]= 0.25  \n"
     ]
    }
   ],
   "source": [
    "model.optimize()\n",
    "if model.status != GRB.Status.OPTIMAL:\n",
    "    print(\"***** Gurobi solve status:\", model.status)\n",
    "    print(\"***** This is a problem. Model does not have an optimal solution\")\n",
    "    raise StopExecution\n",
    "print(\" \")\n",
    "print(\"primal var,      dual slack,      obj delta-lb,    obj delta-ub\")\n",
    "for i in M: print(\"y[\",i,\"]=\",np.format_float_positional(y[i].X,4,pad_right=4), \n",
    "                  \"  s[\",i,\"]=\", np.format_float_positional(y[i].RC,4,pad_right=4),\n",
    "                  \"  L[\",i,\"]=\", np.format_float_positional(y[i].SAObjLow-b[i],4,pad_right=4),\n",
    "                  \"  U[\",i,\"]=\", np.format_float_positional(y[i].SAObjUp-b[i],4,pad_right=4))\n",
    "print(\" \")\n",
    "print(\"dual vars,       primal slack,    rhs delta-lb,    rhs delta-ub\")\n",
    "for j in N: \n",
    "    constr=model.getConstrByName('r'+str(j))    # retriving from Gurobi the named constraints r0,r1,r2,...\n",
    "    print(\"x[\",j,\"]=\",np.format_float_positional(constr.Pi,4,pad_right=4), \n",
    "                  \"  t[\",j,\"]=\", np.format_float_positional(constr.Slack,4,pad_right=4),\n",
    "                  \"  L[\",j,\"]=\", np.format_float_positional(constr.SARHSLow-c[j],4,pad_right=4),\n",
    "                  \"  U[\",j,\"]=\", np.format_float_positional(constr.SARHSUp-c[j],4,pad_right=4))"
   ]
  },
  {
   "cell_type": "markdown",
   "metadata": {},
   "source": [
    "# Optimal Values of both Primal and Dual match."
   ]
  },
  {
   "cell_type": "code",
   "execution_count": null,
   "metadata": {},
   "outputs": [],
   "source": []
  }
 ],
 "metadata": {
  "kernelspec": {
   "display_name": "Python 3 (ipykernel)",
   "language": "python",
   "name": "python3"
  },
  "language_info": {
   "codemirror_mode": {
    "name": "ipython",
    "version": 3
   },
   "file_extension": ".py",
   "mimetype": "text/x-python",
   "name": "python",
   "nbconvert_exporter": "python",
   "pygments_lexer": "ipython3",
   "version": "3.11.4"
  }
 },
 "nbformat": 4,
 "nbformat_minor": 4
}
